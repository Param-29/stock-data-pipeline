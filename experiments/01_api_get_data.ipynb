{
 "cells": [
  {
   "cell_type": "code",
   "execution_count": 7,
   "metadata": {},
   "outputs": [],
   "source": [
    "import requests\n",
    "\n",
    "api_key = \"xD\"\n",
    "\n",
    "search_term = \"NSE\"  # Replace with your search term\n",
    "\n",
    "search_endpoint = f\"https://www.alphavantage.co/query?function=SYMBOL_SEARCH&keywords={search_term}&apikey={api_key}\"\n",
    "\n",
    "response = requests.get(search_endpoint)\n",
    "data = response.json()[\"bestMatches\"]\n"
   ]
  },
  {
   "cell_type": "code",
   "execution_count": 29,
   "metadata": {},
   "outputs": [
    {
     "name": "stdout",
     "output_type": "stream",
     "text": [
      "5877\n"
     ]
    }
   ],
   "source": [
    "import requests\n",
    "\n",
    "# Replace YOUR_API_KEY with your actual API key\n",
    "api_key = 'xD'\n",
    "symbol = 'IBM'\n",
    "\n",
    "# Construct the API endpoint URL\n",
    "url = f'https://www.alphavantage.co/query?function=TIME_SERIES_DAILY_ADJUSTED&symbol={symbol}&outputsize=full&apikey={api_key}'\n",
    "\n",
    "# Make a GET request to the API endpoint\n",
    "response = requests.get(url)\n",
    "\n",
    "# Check if the request was successful\n",
    "if response.status_code == 200:\n",
    "    # Get the close data from the response JSON\n",
    "    data = response.json()['Time Series (Daily)']\n",
    "    close_data = {date: float(values['4. close']) for date, values in data.items()}\n",
    "    print(len(close_data))\n",
    "    # print(close_data)\n",
    "else:\n",
    "    print(f'Request failed with status code {response.status_code}')\n"
   ]
  }
 ],
 "metadata": {
  "kernelspec": {
   "display_name": "de-week-2",
   "language": "python",
   "name": "python3"
  },
  "language_info": {
   "codemirror_mode": {
    "name": "ipython",
    "version": 3
   },
   "file_extension": ".py",
   "mimetype": "text/x-python",
   "name": "python",
   "nbconvert_exporter": "python",
   "pygments_lexer": "ipython3",
   "version": "3.10.9 (main, Jan 11 2023, 15:21:40) [GCC 11.2.0]"
  },
  "orig_nbformat": 4,
  "vscode": {
   "interpreter": {
    "hash": "950fcfefdec0bf676b3b0f1d8627d03b801892b423cdae66ccf77793c2a56756"
   }
  }
 },
 "nbformat": 4,
 "nbformat_minor": 2
}
