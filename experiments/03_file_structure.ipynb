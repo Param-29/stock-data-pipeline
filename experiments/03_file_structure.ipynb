{
 "cells": [
  {
   "cell_type": "code",
   "execution_count": 19,
   "metadata": {},
   "outputs": [],
   "source": [
    "import pandas as pd \n",
    "import os\n",
    "company = 'AMD'\n"
   ]
  },
  {
   "cell_type": "code",
   "execution_count": 3,
   "metadata": {},
   "outputs": [
    {
     "data": {
      "text/html": [
       "<div>\n",
       "<style scoped>\n",
       "    .dataframe tbody tr th:only-of-type {\n",
       "        vertical-align: middle;\n",
       "    }\n",
       "\n",
       "    .dataframe tbody tr th {\n",
       "        vertical-align: top;\n",
       "    }\n",
       "\n",
       "    .dataframe thead th {\n",
       "        text-align: right;\n",
       "    }\n",
       "</style>\n",
       "<table border=\"1\" class=\"dataframe\">\n",
       "  <thead>\n",
       "    <tr style=\"text-align: right;\">\n",
       "      <th>index</th>\n",
       "      <th>date</th>\n",
       "      <th>open</th>\n",
       "      <th>high</th>\n",
       "      <th>low</th>\n",
       "      <th>close</th>\n",
       "      <th>adjusted_close</th>\n",
       "      <th>volume</th>\n",
       "      <th>dividend_amount</th>\n",
       "      <th>split_coefficient</th>\n",
       "      <th>close_percent_change</th>\n",
       "    </tr>\n",
       "  </thead>\n",
       "  <tbody>\n",
       "    <tr>\n",
       "      <th>0</th>\n",
       "      <td>2023-03-31</td>\n",
       "      <td>96.34</td>\n",
       "      <td>98.36</td>\n",
       "      <td>95.270</td>\n",
       "      <td>98.01</td>\n",
       "      <td>98.01</td>\n",
       "      <td>55861066</td>\n",
       "      <td>0.0</td>\n",
       "      <td>1.0</td>\n",
       "      <td>0.1328</td>\n",
       "    </tr>\n",
       "    <tr>\n",
       "      <th>1</th>\n",
       "      <td>2023-03-30</td>\n",
       "      <td>98.00</td>\n",
       "      <td>99.53</td>\n",
       "      <td>97.250</td>\n",
       "      <td>97.88</td>\n",
       "      <td>97.88</td>\n",
       "      <td>59678531</td>\n",
       "      <td>0.0</td>\n",
       "      <td>1.0</td>\n",
       "      <td>1.8628</td>\n",
       "    </tr>\n",
       "    <tr>\n",
       "      <th>2</th>\n",
       "      <td>2023-03-29</td>\n",
       "      <td>96.07</td>\n",
       "      <td>96.91</td>\n",
       "      <td>94.870</td>\n",
       "      <td>96.09</td>\n",
       "      <td>96.09</td>\n",
       "      <td>55325974</td>\n",
       "      <td>0.0</td>\n",
       "      <td>1.0</td>\n",
       "      <td>1.6180</td>\n",
       "    </tr>\n",
       "    <tr>\n",
       "      <th>3</th>\n",
       "      <td>2023-03-28</td>\n",
       "      <td>96.77</td>\n",
       "      <td>96.94</td>\n",
       "      <td>92.870</td>\n",
       "      <td>94.56</td>\n",
       "      <td>94.56</td>\n",
       "      <td>59150100</td>\n",
       "      <td>0.0</td>\n",
       "      <td>1.0</td>\n",
       "      <td>-2.1219</td>\n",
       "    </tr>\n",
       "    <tr>\n",
       "      <th>4</th>\n",
       "      <td>2023-03-27</td>\n",
       "      <td>98.02</td>\n",
       "      <td>98.93</td>\n",
       "      <td>95.425</td>\n",
       "      <td>96.61</td>\n",
       "      <td>96.61</td>\n",
       "      <td>57461354</td>\n",
       "      <td>0.0</td>\n",
       "      <td>1.0</td>\n",
       "      <td>-1.3680</td>\n",
       "    </tr>\n",
       "  </tbody>\n",
       "</table>\n",
       "</div>"
      ],
      "text/plain": [
       "index       date   open   high     low  close  adjusted_close    volume  \\\n",
       "0     2023-03-31  96.34  98.36  95.270  98.01           98.01  55861066   \n",
       "1     2023-03-30  98.00  99.53  97.250  97.88           97.88  59678531   \n",
       "2     2023-03-29  96.07  96.91  94.870  96.09           96.09  55325974   \n",
       "3     2023-03-28  96.77  96.94  92.870  94.56           94.56  59150100   \n",
       "4     2023-03-27  98.02  98.93  95.425  96.61           96.61  57461354   \n",
       "\n",
       "index  dividend_amount  split_coefficient  close_percent_change  \n",
       "0                  0.0                1.0                0.1328  \n",
       "1                  0.0                1.0                1.8628  \n",
       "2                  0.0                1.0                1.6180  \n",
       "3                  0.0                1.0               -2.1219  \n",
       "4                  0.0                1.0               -1.3680  "
      ]
     },
     "execution_count": 3,
     "metadata": {},
     "output_type": "execute_result"
    }
   ],
   "source": [
    "\n",
    "df.head()"
   ]
  },
  {
   "cell_type": "code",
   "execution_count": 4,
   "metadata": {},
   "outputs": [
    {
     "data": {
      "text/plain": [
       "index\n",
       "date                    datetime64[ns]\n",
       "open                           float64\n",
       "high                           float64\n",
       "low                            float64\n",
       "close                          float64\n",
       "adjusted_close                 float64\n",
       "volume                           int64\n",
       "dividend_amount                float64\n",
       "split_coefficient              float64\n",
       "close_percent_change           float64\n",
       "dtype: object"
      ]
     },
     "execution_count": 4,
     "metadata": {},
     "output_type": "execute_result"
    }
   ],
   "source": [
    "df.dtypes"
   ]
  },
  {
   "cell_type": "code",
   "execution_count": 7,
   "metadata": {},
   "outputs": [
    {
     "data": {
      "text/plain": [
       "5892"
      ]
     },
     "execution_count": 7,
     "metadata": {},
     "output_type": "execute_result"
    }
   ],
   "source": [
    "\n",
    "len(df)"
   ]
  },
  {
   "cell_type": "code",
   "execution_count": 40,
   "metadata": {},
   "outputs": [],
   "source": [
    "# divide DF in different years\n",
    "def Write_new(company):\n",
    "    read_path = f'data/all/parquet/{company}.parquet'\n",
    "    df = pd.read_parquet(read_path)\n",
    "    min_year = min(df.date).year\n",
    "    max_year = max(df.date).year\n",
    "    for year in range (min_year, max_year+1):\n",
    "        df_year = df[df['date'].dt.year == year]\n",
    "        # include = df[df['Date'].dt.year == year]\n",
    "        print(f'{company}: {year}: {len(df_year)}')\n",
    "        path = f'data/price_n_volume/{year}/'\n",
    "        isExist = os.path.exists(path)\n",
    "        if not isExist:\n",
    "\n",
    "           # Create a new directory because it does not exist\n",
    "           os.makedirs(path)\n",
    "           print(\"The new directory is created!\")\n",
    "\n",
    "        df_year.to_parquet(f'{path}/{company}.parquet')\n",
    "        # df_year.to_csv(f'{path}/{company}.csv')"
   ]
  },
  {
   "cell_type": "code",
   "execution_count": 47,
   "metadata": {},
   "outputs": [
    {
     "name": "stdout",
     "output_type": "stream",
     "text": [
      "AMZN: 1999: 43\n",
      "AMZN: 2000: 252\n",
      "AMZN: 2001: 248\n",
      "AMZN: 2002: 252\n",
      "AMZN: 2003: 252\n",
      "AMZN: 2004: 252\n",
      "AMZN: 2005: 252\n",
      "AMZN: 2006: 251\n",
      "AMZN: 2007: 251\n",
      "AMZN: 2008: 253\n",
      "AMZN: 2009: 252\n",
      "AMZN: 2010: 252\n",
      "AMZN: 2011: 252\n",
      "AMZN: 2012: 250\n",
      "AMZN: 2013: 252\n",
      "AMZN: 2014: 252\n",
      "AMZN: 2015: 252\n",
      "AMZN: 2016: 252\n",
      "AMZN: 2017: 251\n",
      "AMZN: 2018: 251\n",
      "AMZN: 2019: 252\n",
      "AMZN: 2020: 253\n",
      "AMZN: 2021: 252\n",
      "AMZN: 2022: 251\n",
      "AMZN: 2023: 62\n"
     ]
    }
   ],
   "source": [
    "Write_new('AMZN')"
   ]
  },
  {
   "cell_type": "code",
   "execution_count": null,
   "metadata": {},
   "outputs": [],
   "source": []
  }
 ],
 "metadata": {
  "kernelspec": {
   "display_name": "Python 3 (ipykernel)",
   "language": "python",
   "name": "python3"
  },
  "language_info": {
   "codemirror_mode": {
    "name": "ipython",
    "version": 3
   },
   "file_extension": ".py",
   "mimetype": "text/x-python",
   "name": "python",
   "nbconvert_exporter": "python",
   "pygments_lexer": "ipython3",
   "version": "3.10.9"
  },
  "vscode": {
   "interpreter": {
    "hash": "950fcfefdec0bf676b3b0f1d8627d03b801892b423cdae66ccf77793c2a56756"
   }
  }
 },
 "nbformat": 4,
 "nbformat_minor": 2
}
