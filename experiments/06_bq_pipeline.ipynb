{
 "cells": [
  {
   "cell_type": "code",
   "execution_count": 31,
   "id": "b7a57306",
   "metadata": {},
   "outputs": [],
   "source": [
    "from google.cloud import bigquery\n",
    "import pyspark\n",
    "from pyspark.sql import SparkSession, types\n",
    "from pyspark.conf import SparkConf\n",
    "from pyspark.context import SparkContext\n",
    "from pyspark.sql.functions import udf, col\n",
    "from pyspark.sql import functions as F, Window"
   ]
  },
  {
   "cell_type": "code",
   "execution_count": 11,
   "id": "3377f922",
   "metadata": {},
   "outputs": [
    {
     "name": "stdout",
     "output_type": "stream",
     "text": [
      "23/04/23 10:56:00 WARN NativeCodeLoader: Unable to load native-hadoop library for your platform... using builtin-java classes where applicable\n"
     ]
    },
    {
     "name": "stderr",
     "output_type": "stream",
     "text": [
      "Setting default log level to \"WARN\".\n",
      "To adjust logging level use sc.setLogLevel(newLevel). For SparkR, use setLogLevel(newLevel).\n"
     ]
    }
   ],
   "source": [
    "# Instantiates a client\n",
    "client = bigquery.Client()\n",
    "\n",
    "credentials_location = \"/home/param/data-engineering-zoomcamp/week_1_basics_n_setup/1_terraform_gcp/terraform/quick-ray-375906-15748deb6a49.json\"\n",
    "\n",
    "conf = SparkConf() \\\n",
    "    .setMaster('local[*]') \\\n",
    "    .setAppName('test') \\\n",
    "    .set(\"spark.jars\", \"/home/param/bin/spark-bigquery-with-dependencies_2.12-0.29.0.jar\") \\\n",
    "    .set(\"spark.hadoop.google.cloud.auth.service.account.enable\", \"true\") \\\n",
    "    .set(\"spark.hadoop.google.cloud.auth.service.account.json.keyfile\", credentials_location)\n",
    "\n",
    "sc = SparkContext(conf=conf)\n",
    "\n",
    "hadoop_conf = sc._jsc.hadoopConfiguration()\n",
    "\n",
    "hadoop_conf.set(\"fs.AbstractFileSystem.gs.impl\",  \"com.google.cloud.hadoop.fs.gcs.GoogleHadoopFS\")\n",
    "hadoop_conf.set(\"fs.gs.impl\", \"com.google.cloud.hadoop.fs.gcs.GoogleHadoopFileSystem\")\n",
    "hadoop_conf.set(\"fs.gs.auth.service.account.json.keyfile\", credentials_location)\n",
    "hadoop_conf.set(\"fs.gs.auth.service.account.enable\", \"true\")\n",
    "\n",
    "spark = SparkSession.builder \\\n",
    "    .config(conf=sc.getConf()) \\\n",
    "    .getOrCreate()"
   ]
  },
  {
   "cell_type": "code",
   "execution_count": 7,
   "id": "6764a8df",
   "metadata": {},
   "outputs": [],
   "source": [
    "def create_bq_raw_table():\n",
    "    query = '''\n",
    "    CREATE OR REPLACE EXTERNAL TABLE `quick-ray-375906.price_n_volume.recent_raw_external`\n",
    "  OPTIONS (\n",
    "    format =\"csv\",\n",
    "    uris = ['gs://prefect-dee/data/price_n_volume/recent/*']\n",
    "    );\n",
    "\n",
    "    CREATE or REPLACE TABLE `quick-ray-375906.price_n_volume.recent_raw`\n",
    "    AS \n",
    "    SELECT * FROM `quick-ray-375906.price_n_volume.recent_raw_external`;\n",
    "    '''\n",
    "\n",
    "    # Executes the query and fetches the results\n",
    "    query_job = client.query(query)\n",
    "    return query_job\n",
    "\n",
    "    "
   ]
  },
  {
   "cell_type": "code",
   "execution_count": 8,
   "id": "6f285e99",
   "metadata": {},
   "outputs": [
    {
     "data": {
      "text/plain": [
       "QueryJob<project=quick-ray-375906, location=asia-south1, id=24833d08-85da-4a7d-9113-4dd8fc468a86>"
      ]
     },
     "execution_count": 8,
     "metadata": {},
     "output_type": "execute_result"
    }
   ],
   "source": [
    "create_bq_raw_table()"
   ]
  },
  {
   "cell_type": "code",
   "execution_count": 37,
   "id": "3c55b9c6",
   "metadata": {},
   "outputs": [],
   "source": [
    "def udf_if_outlier(val, avg, stddev):\n",
    "    try:\n",
    "        if ( \n",
    "            (val > (avg + stddev)) \n",
    "            \n",
    "        ):\n",
    "            return 1\n",
    "        elif (\n",
    "            (val < (avg - stddev)) \n",
    "        ):\n",
    "            return -1\n",
    "    except Exception as e:\n",
    "        # print(f'e = {e}\\n val = {val}, avg = {avg}, stddev = {stddev}')\n",
    "        return -2\n",
    "    return 0\n",
    "\n",
    "\n",
    "\n",
    "\n",
    "def udf_if_outlier_high_only(val, avg, stddev):\n",
    "    try:\n",
    "        if ( val > (avg + stddev)):\n",
    "            return 1\n",
    "    except Exception as e:\n",
    "        return 0\n",
    "    return 0\n",
    "\n",
    "\n",
    "def window_create(df, on_column ,lst_number_of_days, both=1):\n",
    "    for number_of_days in lst_number_of_days:\n",
    "        w = Window.partitionBy('company').orderBy('date').rowsBetween(Window.currentRow+1, number_of_days)\n",
    "\n",
    "        avg_column = f'avg_{on_column}_{number_of_days}'\n",
    "        stddev_column = f'stddev_{on_column}_{number_of_days}'\n",
    "        outlier_column = f'if_outlier_{on_column}_{number_of_days}'\n",
    "\n",
    "        df = df.withColumn(\n",
    "            avg_column, \n",
    "            F.avg(f'{on_column}').over(w))\n",
    "\n",
    "        df = df.withColumn(\n",
    "            stddev_column, \n",
    "            F.stddev(f'{on_column}').over(w))\n",
    "\n",
    "        if both:\n",
    "            udfValueToOutlier = udf(udf_if_outlier, types.IntegerType())\n",
    "        else:\n",
    "            udfValueToOutlier = udf(udf_if_outlier_high_only, types.IntegerType())\n",
    "\n",
    "        # here does not work\n",
    "\n",
    "        df = df.withColumn(\n",
    "                outlier_column, \n",
    "                udfValueToOutlier(df[f'{on_column}'], df[f'{avg_column}'], df[f'{stddev_column}']))\n",
    "\n",
    "        # df.select(\\\n",
    "        #      col(\"company\"), col(outlier_column)\n",
    "        # ).groupBy('company', outlier_column).count().orderBy(col(\"company\")).show()\n",
    "    return df"
   ]
  },
  {
   "cell_type": "code",
   "execution_count": 44,
   "id": "aab75538",
   "metadata": {},
   "outputs": [],
   "source": [
    "def create_bq_outlier_table():\n",
    "    df = spark.read \\\n",
    "      .format(\"bigquery\") \\\n",
    "      .load(\"quick-ray-375906.price_n_volume.recent_raw\")\n",
    "    \n",
    "    df = window_create(df, 'close_percent_change', [20])\n",
    "    df = window_create(df, 'volume', [100], both=0)\n",
    "    return df"
   ]
  },
  {
   "cell_type": "code",
   "execution_count": 45,
   "id": "3dd5e716",
   "metadata": {},
   "outputs": [
    {
     "data": {
      "text/plain": [
       "9016"
      ]
     },
     "execution_count": 45,
     "metadata": {},
     "output_type": "execute_result"
    }
   ],
   "source": [
    "\n"
   ]
  },
  {
   "cell_type": "code",
   "execution_count": 46,
   "id": "69c6b6c0",
   "metadata": {},
   "outputs": [],
   "source": [
    "def write_bq_outlier_table(dataset = 'price_n_volume', table = 'recent_outliers'):\n",
    "    df = create_bq_outlier_table()\n",
    "    print(f'number of records in dataset: {df.count()}')\n",
    "    print(f'Writing to {dataset} with table {table}')\n",
    "    df.write \\\n",
    "      .format(\"bigquery\") \\\n",
    "      .option(\"writeMethod\", \"direct\") \\\n",
    "      .save(f\"{dataset}.{table}\")\n",
    "    "
   ]
  },
  {
   "cell_type": "code",
   "execution_count": 47,
   "id": "ab74d30e",
   "metadata": {},
   "outputs": [
    {
     "name": "stdout",
     "output_type": "stream",
     "text": [
      "number of records in dataset: 9016\n",
      "Writing to price_n_volume with table recent_outliers\n"
     ]
    },
    {
     "name": "stderr",
     "output_type": "stream",
     "text": [
      "                                                                                \r"
     ]
    }
   ],
   "source": [
    "write_bq_outlier_table()"
   ]
  },
  {
   "cell_type": "code",
   "execution_count": null,
   "id": "92e9c8ae",
   "metadata": {},
   "outputs": [],
   "source": []
  }
 ],
 "metadata": {
  "kernelspec": {
   "display_name": "Python 3 (ipykernel)",
   "language": "python",
   "name": "python3"
  },
  "language_info": {
   "codemirror_mode": {
    "name": "ipython",
    "version": 3
   },
   "file_extension": ".py",
   "mimetype": "text/x-python",
   "name": "python",
   "nbconvert_exporter": "python",
   "pygments_lexer": "ipython3",
   "version": "3.9.13"
  }
 },
 "nbformat": 4,
 "nbformat_minor": 5
}
